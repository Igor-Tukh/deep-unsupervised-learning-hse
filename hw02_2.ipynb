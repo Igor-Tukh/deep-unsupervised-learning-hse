{
  "nbformat": 4,
  "nbformat_minor": 0,
  "metadata": {
    "colab": {
      "name": "hw02_2.ipynb",
      "provenance": [],
      "collapsed_sections": []
    },
    "kernelspec": {
      "name": "python3",
      "display_name": "Python 3"
    }
  },
  "cells": [
    {
      "cell_type": "markdown",
      "metadata": {
        "id": "kOBLsNJLb4FJ",
        "colab_type": "text"
      },
      "source": [
        "## **Deep Unsupervised Learning course, HSE, fall-winter 2019**\n",
        "## **HW 02**\n",
        "#### **Student: Igor Tukh**"
      ]
    },
    {
      "cell_type": "code",
      "metadata": {
        "id": "w84Al860XDLz",
        "colab_type": "code",
        "colab": {}
      },
      "source": [
        "import os\n",
        "import torch\n",
        "import pickle\n",
        "import numpy as np\n",
        "import matplotlib.pyplot as plt"
      ],
      "execution_count": 0,
      "outputs": []
    },
    {
      "cell_type": "code",
      "metadata": {
        "id": "MdFuLc8tbLHy",
        "colab_type": "code",
        "colab": {}
      },
      "source": [
        "from torch.utils.data import DataLoader\n",
        "from torch import nn"
      ],
      "execution_count": 0,
      "outputs": []
    },
    {
      "cell_type": "code",
      "metadata": {
        "id": "_ie04_S5T3oo",
        "colab_type": "code",
        "outputId": "83954c27-0b42-43f1-c86b-781d36d301f4",
        "colab": {
          "base_uri": "https://localhost:8080/",
          "height": 55
        }
      },
      "source": [
        "from google.colab import drive\n",
        "drive.mount('/content/gdrive')"
      ],
      "execution_count": 38,
      "outputs": [
        {
          "output_type": "stream",
          "text": [
            "Drive already mounted at /content/gdrive; to attempt to forcibly remount, call drive.mount(\"/content/gdrive\", force_remount=True).\n"
          ],
          "name": "stdout"
        }
      ]
    },
    {
      "cell_type": "code",
      "metadata": {
        "id": "9kSoUBM3UArT",
        "colab_type": "code",
        "colab": {}
      },
      "source": [
        "RESOURCES_PATH = 'gdrive/My Drive/Colab Notebooks/resources'\n",
        "PKL_PATH = os.path.join(RESOURCES_PATH, 'hw2_q2.pkl')"
      ],
      "execution_count": 0,
      "outputs": []
    },
    {
      "cell_type": "code",
      "metadata": {
        "id": "TZGskN_5XMjr",
        "colab_type": "code",
        "colab": {}
      },
      "source": [
        "def load_data():\n",
        "  with open(PKL_PATH, 'rb') as pkl_file:\n",
        "    return pickle.load(pkl_file)"
      ],
      "execution_count": 0,
      "outputs": []
    },
    {
      "cell_type": "code",
      "metadata": {
        "id": "jS9ohruCX_s8",
        "colab_type": "code",
        "colab": {}
      },
      "source": [
        "data = load_data()"
      ],
      "execution_count": 0,
      "outputs": []
    },
    {
      "cell_type": "code",
      "metadata": {
        "id": "QFANf7tpYEJC",
        "colab_type": "code",
        "outputId": "1d9d44c7-5117-4a98-8435-66bcfda4af05",
        "colab": {
          "base_uri": "https://localhost:8080/",
          "height": 53
        }
      },
      "source": [
        "print('Train shape:', data['train'].shape)\n",
        "print('Test shape:', data['test'].shape)"
      ],
      "execution_count": 42,
      "outputs": [
        {
          "output_type": "stream",
          "text": [
            "Train shape: (20000, 32, 32, 3)\n",
            "Test shape: (6838, 32, 32, 3)\n"
          ],
          "name": "stdout"
        }
      ]
    },
    {
      "cell_type": "code",
      "metadata": {
        "id": "X-JFksAVYON7",
        "colab_type": "code",
        "outputId": "017370a2-72be-446c-e3a4-d103987f967e",
        "colab": {
          "base_uri": "https://localhost:8080/",
          "height": 269
        }
      },
      "source": [
        "fig = plt.figure()\n",
        "for ind, image in enumerate(data['train'][:25]):\n",
        "  fig.add_subplot(5, 5, ind + 1)\n",
        "  plt.imshow(image * 70)"
      ],
      "execution_count": 46,
      "outputs": [
        {
          "output_type": "display_data",
          "data": {
            "image/png": "[encoded data removed]",
            "text/plain": [
              "<Figure size 432x288 with 25 Axes>"
            ]
          },
          "metadata": {
            "tags": []
          }
        }
      ]
    },
    {
      "cell_type": "code",
      "metadata": {
        "id": "Od9YoUNNaECd",
        "colab_type": "code",
        "colab": {}
      },
      "source": [
        "train = torch.FloatTensor(data['train'].transpose(0, 3, 1, 2))\n",
        "test = torch.FloatTensor(data['test'].transpose(0, 3, 1, 2))"
      ],
      "execution_count": 0,
      "outputs": []
    },
    {
      "cell_type": "code",
      "metadata": {
        "id": "BIW-YG_3aq1L",
        "colab_type": "code",
        "outputId": "e9e1e134-ebb1-4476-dd32-608871165de9",
        "colab": {
          "base_uri": "https://localhost:8080/",
          "height": 53
        }
      },
      "source": [
        "print('Train shape:', train.shape)\n",
        "print('Test shape:', test.shape)"
      ],
      "execution_count": 48,
      "outputs": [
        {
          "output_type": "stream",
          "text": [
            "Train shape: torch.Size([20000, 3, 32, 32])\n",
            "Test shape: torch.Size([6838, 3, 32, 32])\n"
          ],
          "name": "stdout"
        }
      ]
    },
    {
      "cell_type": "code",
      "metadata": {
        "id": "wB4h-mIfbWoT",
        "colab_type": "code",
        "colab": {}
      },
      "source": [
        "batch_size = 16\n",
        "num_epochs = 5\n",
        "lr = 5e-4"
      ],
      "execution_count": 0,
      "outputs": []
    },
    {
      "cell_type": "code",
      "metadata": {
        "id": "w7RIGY5ba16g",
        "colab_type": "code",
        "colab": {}
      },
      "source": [
        "train_batches = DataLoader(train, batch_size=batch_size, shuffle=True)\n",
        "test_batches = DataLoader(test, batch_size=batch_size, shuffle=True)"
      ],
      "execution_count": 0,
      "outputs": []
    },
    {
      "cell_type": "code",
      "metadata": {
        "id": "8JAIvwsrbpls",
        "colab_type": "code",
        "colab": {}
      },
      "source": [
        "class ResNetBlock(nn.Module):\n",
        "  def __init__(self, n_filters):\n",
        "    super(ResNetBlock, self).__init__()\n",
        "    \n",
        "    self._h = nn.Sequential(nn.Conv2d(n_filters, n_filters, kernel_size=(1, 1), stride=(1, 1)),\n",
        "                            nn.ReLU(),\n",
        "                            nn.Conv2d(n_filters, n_filters, kernel_size=(3, 3), stride=(1, 1), padding=1))\n",
        "    \n",
        "    self.h = nn.Sequential(nn.ReLU(),\n",
        "                           nn.Conv2d(n_filters, n_filters, kernel_size=(1, 1), stride=(1, 1)))\n",
        "    \n",
        "  def forward(self, x):\n",
        "    _h = self._h(x)\n",
        "    h = self.h(_h)\n",
        "    return h + _h"
      ],
      "execution_count": 0,
      "outputs": []
    },
    {
      "cell_type": "code",
      "metadata": {
        "id": "-m4u9MiMjypb",
        "colab_type": "code",
        "colab": {}
      },
      "source": [
        "class AffineCoupling(nn.Module):\n",
        "  def __init__(self, in_channels, n_filters=256, n_blocks=8):\n",
        "    super(AffineCoupling, self).__init__()\n",
        "\n",
        "    out_channels = 2 * in_channels\n",
        "    self.layers = nn.Sequential(nn.Conv2d(in_channels, n_filters, kernel_size=(3, 3), stride=(1, 1), padding=1),\n",
        "                                *[ResNetBlock(n_filters) for _ in range(n_blocks)],\n",
        "                                nn.ReLU(),\n",
        "                                nn.Conv2d(n_filters, out_channels, kernel_size=(3, 3), stride=(1, 1), padding=1))\n",
        "\n",
        "  def forward(self, x):\n",
        "    x1, x2 = x\n",
        "    y1 = x1\n",
        "    log_s, t = torch.chunk(self.simple_resnet(x1), 2, dim=1)\n",
        "    # y2 = torch.exp(log_s) * (y1 + t)\n",
        "    y2 = torch.exp(log_s) * (x2 + t)\n",
        "    return (y1, y2), log_s.sum(dim=[1, 2, 3])\n",
        "\n",
        "  def simple_resnet(self, x):\n",
        "    # output = self.layers(x)\n",
        "    # print(x.shape, output.shape)\n",
        "    return self.layers(x)"
      ],
      "execution_count": 0,
      "outputs": []
    },
    {
      "cell_type": "code",
      "metadata": {
        "id": "A1tfV754u91S",
        "colab_type": "code",
        "colab": {}
      },
      "source": [
        "def tuple_flip(x1, x2):\n",
        "  return x2, x1"
      ],
      "execution_count": 0,
      "outputs": []
    },
    {
      "cell_type": "code",
      "metadata": {
        "id": "ZwZWtg7evNNY",
        "colab_type": "code",
        "colab": {}
      },
      "source": [
        "class Net(nn.Module):\n",
        "  def __init__(self, in_channels):\n",
        "    super(Net, self).__init__()\n",
        "\n",
        "    affine_coupling_1 = nn.ModuleList([AffineCoupling(in_channels) for _ in range(4)])\n",
        "    affine_coupling_2 = nn.ModuleList([AffineCoupling(2 * in_channels) for _ in range(3)])\n",
        "    affine_coupling_3 = nn.ModuleList([AffineCoupling(4 * in_channels) for _ in range(3)])\n",
        "    affine_coupling_4 = nn.ModuleList([AffineCoupling(8 * in_channels) for _ in range(3)])\n",
        "    affine_coupling_5 = nn.ModuleList([AffineCoupling(16 * in_channels) for _ in range(3)])\n",
        "  \n",
        "    self.couplings = [(self.checkboard, affine_coupling_1), \n",
        "                      (self.channel, affine_coupling_2),\n",
        "                      (self.checkboard, affine_coupling_3), \n",
        "                      (self.channel, affine_coupling_4),\n",
        "                      (self.checkboard, affine_coupling_5)]\n",
        "\n",
        "  def forward(self, x):\n",
        "    total = 0\n",
        "    for step, coupling in self.couplings:\n",
        "      x, det = step(x, coupling)\n",
        "      total += det\n",
        "    return x, total\n",
        "\n",
        "  def checkboard(self, x, couplings):\n",
        "    x1, x2 = self.checkboard_split(x)    \n",
        "\n",
        "    total = np.zeros(x1.shape)\n",
        "    for layer in couplings:\n",
        "      (x1, x2), det = layer((x1, x2))\n",
        "      x1, x2 = tuple_flip(x1, x2)\n",
        "      total += det\n",
        "    \n",
        "    x = self.inverse_checkboard_split(x1, x2)\n",
        "    return x, total\n",
        "\n",
        "  def channel(self, x, couplings):\n",
        "    x = self.squeeze(x)\n",
        "    x1, x2 = self.channel_split(x)    \n",
        "    \n",
        "    total = np.zeros(x1.shape)\n",
        "    for layer in couplings:\n",
        "      (x1, x2), det = layer((x1, x2))\n",
        "      x1, x2 = tuple_flip(x1, x2)\n",
        "      total += det\n",
        "    \n",
        "    x = self.inverse_channel_split(x1, x2)\n",
        "    return x, total\n",
        "\n",
        "  def checkboard_split(self, x):\n",
        "    n, c, h, w = x.shape\n",
        "    mask = np.array([[(i + j) % 2 == 0 for j in range(w)] for i in range(h)])\n",
        "    mask = torch.from_numpy(mask).repeat(n, c, 1, 1)\n",
        "    x1 = x[mask].reshape(n, c, h, w // 2)\n",
        "    x2 = x[~mask].reshape(n, c, h, w // 2)\n",
        "    return x1, x2\n",
        "\n",
        "  def inverse_checkboard_split(self, x1, x2):\n",
        "    n, c, h, w = x1.shape\n",
        "    mask = np.array([[(i + j) % 2 == 0 for j in range(w * 2)] for i in range(h)])\n",
        "    mask = torch.from_numpy(mask)\n",
        "    x = torch.zeros(n, c, h, w * 2)\n",
        "    x[:,:,mask] = x1.reshape(n, c, -1)\n",
        "    x[:,:,~mask] = x2.reshape(n, c, -1)\n",
        "    return x \n",
        "\n",
        "  def squeeze(self, x):\n",
        "    n, c, h, w = x.shape\n",
        "    return x.reshape(n, c * 4, h // 2, w // 2)\n",
        "\n",
        "  def channel_split(self, x):\n",
        "    return torch.chunk(x, 2, dim=1)\n",
        "\n",
        "  def inverse_channel_split(self, x1, x2):\n",
        "    return torch.cat((x1, x2), dim=1)"
      ],
      "execution_count": 0,
      "outputs": []
    }
  ]
}