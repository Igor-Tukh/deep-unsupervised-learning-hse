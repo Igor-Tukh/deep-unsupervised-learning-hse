{
 "cells": [
  {
   "cell_type": "markdown",
   "metadata": {},
   "source": [
    "# Deep Unsupervised Learning course, HSE, fall-winter 2019\n",
    "## HW 01\n",
    "### Student: Igor Tukh"
   ]
  },
  {
   "cell_type": "markdown",
   "metadata": {},
   "source": [
    "# <span style=\"color:red\"> Note: task isn't complete yet. I will finish it a little bit later.</span>"
   ]
  },
  {
   "cell_type": "code",
   "execution_count": 20,
   "metadata": {},
   "outputs": [],
   "source": [
    "import numpy as np\n",
    "import torch\n",
    "import os\n",
    "import pickle\n",
    "import torch.optim\n",
    "import matplotlib.pyplot as plt"
   ]
  },
  {
   "cell_type": "code",
   "execution_count": 3,
   "metadata": {},
   "outputs": [],
   "source": [
    "from sklearn.model_selection import train_test_split\n",
    "from collections import defaultdict"
   ]
  },
  {
   "cell_type": "code",
   "execution_count": 19,
   "metadata": {},
   "outputs": [],
   "source": [
    "RESOURCES_PATH = './resources'\n",
    "DATA_PATH = os.path.join(RESOURCES_PATH, 'mnist-hw1.pkl')"
   ]
  },
  {
   "cell_type": "code",
   "execution_count": 21,
   "metadata": {},
   "outputs": [],
   "source": [
    "def load_data():\n",
    "    with open(DATA_PATH, 'rb') as data_file:\n",
    "        data = pickle.load(data_file)\n",
    "    \n",
    "    return data"
   ]
  },
  {
   "cell_type": "code",
   "execution_count": 22,
   "metadata": {},
   "outputs": [],
   "source": [
    "data = load_data()"
   ]
  },
  {
   "cell_type": "markdown",
   "metadata": {},
   "source": [
    "## 3) High-dimensional data"
   ]
  },
  {
   "cell_type": "code",
   "execution_count": 11,
   "metadata": {},
   "outputs": [],
   "source": [
    "class MaskedConv2d(torch.nn.Conv2d):\n",
    "    def __init__(self, in_channels, out_channels, \n",
    "                 kernel_size, stride=1, padding=0, \n",
    "                 dilation=1, groups=1, bias=True, \n",
    "                 padding_mode='zeros'):\n",
    "        super(MaskedConv2d, self).__init__(mask_type, in_channels, out_channels, \n",
    "                                           kernel_size, stride, padding,\n",
    "                                           dilation, groups, bias, \n",
    "                                           padding_mode)\n",
    "        \n",
    "        self.register_buffer('mask', self.weight.data.clone())\n",
    "        _, _, kH, kW = self.weight.size()\n",
    "        self.mask.fill_(1)\n",
    "        self.mask[:, :, kH // 2, kW // 2 + (mask_type == 'B'):] = 0\n",
    "        self.mask[:, :, kH // 2 + 1:] = 0\n",
    "\n",
    "    def forward(self, x):\n",
    "        self.weight.data *= self.mask\n",
    "        return super(MaskedConv2d, self).forward(x)"
   ]
  },
  {
   "cell_type": "code",
   "execution_count": 15,
   "metadata": {},
   "outputs": [],
   "source": [
    "class MaskedResBlock(torch.nn.Module):\n",
    "    def __init__(self, size):\n",
    "        self.model = torch.nn.Sequential(\n",
    "            torch.nn.ReLU(True),\n",
    "            MaskedConv2d('B', size, size, kernel_size=7, \n",
    "                         stride=1, padding=3, bias=False),\n",
    "            torch.nn.BatchNorm2d(size), \n",
    "            torch.nn.ReLU(True),\n",
    "            MaskedConv2d('B', size, size, kernel_size=7, \n",
    "                         stride=1, padding=3, bias=False), \n",
    "            torch.nn.BatchNorm2d(size), \n",
    "            torch.nn.ReLU(True),\n",
    "            MaskedConv2d('B', size, size, kernel_size=7, stride=1, \n",
    "                         padding=3, bias=False),\n",
    "            torch.nn.BatchNorm2d(size))\n",
    "    \n",
    "    def forward(self, x):\n",
    "        return self.model(x) + x\n",
    "    \n",
    "    def parameters(self):\n",
    "        return self.model.parameters()"
   ]
  },
  {
   "cell_type": "code",
   "execution_count": 16,
   "metadata": {},
   "outputs": [],
   "source": [
    "class PixelCNN(torch.nn.Module):\n",
    "    def __init__(self):\n",
    "        pass"
   ]
  }
 ],
 "metadata": {
  "kernelspec": {
   "display_name": "Python 3",
   "language": "python",
   "name": "python3"
  },
  "language_info": {
   "codemirror_mode": {
    "name": "ipython",
    "version": 3
   },
   "file_extension": ".py",
   "mimetype": "text/x-python",
   "name": "python",
   "nbconvert_exporter": "python",
   "pygments_lexer": "ipython3",
   "version": "3.7.4"
  }
 },
 "nbformat": 4,
 "nbformat_minor": 2
}
